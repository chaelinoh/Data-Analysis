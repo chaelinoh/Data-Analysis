{
  "nbformat": 4,
  "nbformat_minor": 0,
  "metadata": {
    "colab": {
      "private_outputs": true,
      "provenance": [],
      "mount_file_id": "https://github.com/chaelinoh/chaelin.github.io/blob/master/Untitled.ipynb",
      "authorship_tag": "ABX9TyM3q9tTqO8M6f4z3s6EPw17",
      "include_colab_link": true
    },
    "kernelspec": {
      "name": "python3",
      "display_name": "Python 3"
    },
    "language_info": {
      "name": "python"
    },
    "gpuClass": "standard"
  },
  "cells": [
    {
      "cell_type": "markdown",
      "metadata": {
        "id": "view-in-github",
        "colab_type": "text"
      },
      "source": [
        "<a href=\"https://colab.research.google.com/github/chaelinoh/itb2022/blob/main/%EB%B6%84%EB%A5%98%EA%B3%BC%EC%A0%9C.ipynb\" target=\"_parent\"><img src=\"https://colab.research.google.com/assets/colab-badge.svg\" alt=\"Open In Colab\"/></a>"
      ]
    },
    {
      "cell_type": "code",
      "source": [
        "from google.colab import drive\n",
        "drive.mount('/content/drive')"
      ],
      "metadata": {
        "id": "9-WK37cXtbtb"
      },
      "execution_count": null,
      "outputs": []
    },
    {
      "cell_type": "code",
      "source": [
        "#import Modules\n",
        "import numpy as np\n",
        "import pandas as pd\n",
        "import seaborn as sns\n",
        "import matplotlib.pyplot as plt\n",
        "import matplotlib.mlab as mlab\n",
        "import warnings \n",
        "\n",
        "from sklearn import preprocessing\n",
        "from sklearn.metrics import confusion_matrix\n",
        "from sklearn import svm\n",
        "\n",
        "\n",
        "\n",
        "%matplotlib inline\n",
        "\n",
        "plt.rc('font', family=\"NanumBarunGothic\")\n",
        "\n",
        "df = pd.read_csv('/content/drive/MyDrive/project/health_data.csv')\n",
        "\n",
        "#데이터 실펴보기\n",
        "\n",
        "print(df.head())\n",
        "print(df.describe())"
      ],
      "metadata": {
        "id": "pQ_kmbi_COXT"
      },
      "execution_count": null,
      "outputs": []
    },
    {
      "cell_type": "code",
      "source": [
        "#데이터타입, null 정보 등 확인\n",
        "df.info()"
      ],
      "metadata": {
        "id": "yWRyN7pA-a-5"
      },
      "execution_count": null,
      "outputs": []
    },
    {
      "cell_type": "code",
      "source": [
        "#'수축기혈압','이완기혈압','식전혈당(공복혈당)','트리글리세라이드','HDL콜레스테롤','LDL콜레스테롤'과'총콜레스테롤'의 상관관계 분석을 진행해 보자.\n",
        "df = df[['수축기혈압','이완기혈압','식전혈당(공복혈당)','트리글리세라이드','HDL콜레스테롤','LDL콜레스테롤','총콜레스테롤']]"
      ],
      "metadata": {
        "id": "-VWS5lkI-z51"
      },
      "execution_count": null,
      "outputs": []
    },
    {
      "cell_type": "code",
      "source": [
        "# 결측치 확인 \n",
        "df.isna().sum()\n"
      ],
      "metadata": {
        "id": "aDXtTUqQ-mJs"
      },
      "execution_count": null,
      "outputs": []
    },
    {
      "cell_type": "code",
      "source": [
        "#결측치가 존재하는 모든 행 제거\n",
        "\n",
        "df=df.dropna()\n",
        "display(df.describe())"
      ],
      "metadata": {
        "id": "UUaVuoqyFvzo"
      },
      "execution_count": null,
      "outputs": []
    },
    {
      "cell_type": "code",
      "source": [
        "# 한글 폰트 사용 \n",
        "\n",
        "!sudo apt-get install -y fonts-nanum\n",
        "!sudo fc-cache -fv\n",
        "!rm ~/.cache/matplotlib -rf"
      ],
      "metadata": {
        "id": "r-05wCWy_mtT"
      },
      "execution_count": null,
      "outputs": []
    },
    {
      "cell_type": "code",
      "source": [
        "plt.rc('font',family='NanumBarunGothic')"
      ],
      "metadata": {
        "id": "1iPIq-K2Bo1L"
      },
      "execution_count": null,
      "outputs": []
    },
    {
      "cell_type": "code",
      "source": [
        "#타깃 변수인 총콜레스테롤의 정상범주인 120~220을 기준으로 작으면 0 정상은 1 높으면 2로 바꿔준다\n",
        "def reshape(values):\n",
        "    if values < 120:\n",
        "        return 0\n",
        "    elif 120 <= values <= 220:\n",
        "        return 1\n",
        "    else:\n",
        "        return 2\n",
        "\n",
        "df['총콜레스테롤'] = df['총콜레스테롤'].apply(reshape)\n",
        "df"
      ],
      "metadata": {
        "id": "8GvqslABN6iD"
      },
      "execution_count": null,
      "outputs": []
    },
    {
      "cell_type": "code",
      "source": [
        "display(df)"
      ],
      "metadata": {
        "id": "erKQxmocF-f9"
      },
      "execution_count": null,
      "outputs": []
    },
    {
      "cell_type": "code",
      "source": [
        "from sklearn.tree import DecisionTreeClassifier\n",
        "from sklearn.model_selection import train_test_split\n",
        "\n",
        "X = df.iloc[:, :-1]   #변수 6개\n",
        "y = df.iloc[:, -1]  #target 변수 총콜레스테롤\n",
        "\n",
        "\n",
        "#데이터셋을 학습(train)과 테스트(test) 세트로 분할\n",
        "#random_state : random으로 분할 시 사용되는 난수 seed 숫자\n",
        "\n",
        "X_train, X_test, y_train, y_test = train_test_split(X,y,test_size = 0.25, random_state=42)\n",
        "\n",
        "tree = DecisionTreeClassifier(random_state=0)\n",
        "tree.fit(X_train, y_train)\n",
        "\n",
        "print(\"학습용 데이터 정확도: {:.3f}\".format(tree.score(X_train, y_train)))\n",
        "print(\"시험용 데이터 정확도: {:.3f}\".format(tree.score(X_test, y_test)))"
      ],
      "metadata": {
        "id": "gbDSX6QzKnU0"
      },
      "execution_count": null,
      "outputs": []
    },
    {
      "cell_type": "code",
      "source": [
        "#의사결정나무의 깊이를 4로 제한 (과적합 줄임)\n",
        "\n",
        "tree = DecisionTreeClassifier(max_depth=4, random_state=0)\n",
        "tree.fit(X_train, y_train)\n",
        "\n",
        "print(\"학습용 데이터 정확도: {:.3f}\".format(tree.score(X_train, y_train)))\n",
        "print(\"시험용 데이터 정확도: {:.3f}\".format(tree.score(X_test, y_test)))"
      ],
      "metadata": {
        "id": "R1LNZHEkQ3QP"
      },
      "execution_count": null,
      "outputs": []
    },
    {
      "cell_type": "markdown",
      "source": [
        "#의사결정나무\n",
        "##주요변수들\n",
        "- LDL 콜레스테롤 / HDL콜레스테롤 / 트리글리세라이드 가 총콜레스테롤과 가장 연관이 있음을 알 수 있다.\n",
        "- HDL은 혈관벽에 침착되어 있는 콜레스테롤을 포착해 세포로 전달하므로 높을수록 몸에 좋다.\n",
        "LDL은 혈관벽에 축적되면서 다양한 심혈관질환을 일으키므로 낮아야 좋다.\n",
        "- 이를 바탕으로 의사결정나무 결과를 분석해보면 LDL이 134.5 이하인 경우 최종적으로 총콜레스테롤 수치가 정상인 경우가 많고 그 중에서 HDL콜레스테롤이 76.5보다 높은 경우에만 총콜레스테롤 수치가 주의 단계가 되었다.\n",
        "- 의사결정나무 그래프를 바탕으로 중성지방인 트리글리세라이드가 높을 수록 총콜레스테롤 수치도 높게 나옴을 알 수 있다."
      ],
      "metadata": {
        "id": "c3osTPBdY3ev"
      }
    },
    {
      "cell_type": "code",
      "source": [
        "#  graphviz 라이브러리를 이용하여 의사결정나무 그리기\n",
        "from sklearn.tree import export_graphviz\n",
        "import graphviz\n",
        "\n",
        "export_graphviz(tree, out_file='tree.dot', class_names=['부족','정상','주의'], feature_names=df.columns[:-1], impurity=False, filled=True)\n",
        "\n",
        "\n",
        "with open(\"tree.dot\") as f:\n",
        "    dot_graph = f.read()\n",
        "\n",
        "display(graphviz.Source(dot_graph))"
      ],
      "metadata": {
        "id": "Dyp7vjxeMdtB"
      },
      "execution_count": null,
      "outputs": []
    },
    {
      "cell_type": "code",
      "source": [],
      "metadata": {
        "id": "agnZY4gsaq8M"
      },
      "execution_count": null,
      "outputs": []
    }
  ]
}